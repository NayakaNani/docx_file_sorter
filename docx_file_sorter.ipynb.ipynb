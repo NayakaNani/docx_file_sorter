{
 "cells": [
  {
   "cell_type": "code",
   "execution_count": 1,
   "id": "db8ae2f9",
   "metadata": {},
   "outputs": [],
   "source": [
    "import docx\n",
    "import os\n",
    "def sorter(address):\n",
    "    os.chdir(address)\n",
    "    noduplicates=set()\n",
    "    menu=[]\n",
    "    for e in os.listdir():\n",
    "        menu.append(e)\n",
    "    for i in menu:\n",
    "            heading=i\n",
    "            headingsize=len(heading)\n",
    "            lis=[]\n",
    "            if heading[slice(headingsize-11)] not in noduplicates:\n",
    "                noduplicates.add(heading[slice(headingsize-11)])\n",
    "                path=os.path.join(address,heading[slice(headingsize-5)])\n",
    "                os.mkdir(path)\n",
    "                for j in menu:\n",
    "                    if headingsize==len(j):\n",
    "                            doc=docx.Document(address+\"//\"+j)\n",
    "                            for para in doc.paragraphs:\n",
    "                                lis.append(para.text)\n",
    "                os.chdir(address+\"//\"+heading[slice(headingsize-5)])\n",
    "                boc=docx.Document()\n",
    "                for l in lis:\n",
    "                    boc.add_paragraph(l)\n",
    "                boc.save(heading[slice(headingsize-5)]+\".docx\")\n",
    "                lis.clear()\n",
    "    print(noduplicates)\n",
    "                        \n",
    "            "
   ]
  }
 ],
 "metadata": {
  "kernelspec": {
   "display_name": "Python 3 (ipykernel)",
   "language": "python",
   "name": "python3"
  },
  "language_info": {
   "codemirror_mode": {
    "name": "ipython",
    "version": 3
   },
   "file_extension": ".py",
   "mimetype": "text/x-python",
   "name": "python",
   "nbconvert_exporter": "python",
   "pygments_lexer": "ipython3",
   "version": "3.9.7"
  }
 },
 "nbformat": 4,
 "nbformat_minor": 5
}
